{
 "cells": [
  {
   "cell_type": "code",
   "execution_count": 38,
   "metadata": {},
   "outputs": [
    {
     "name": "stdout",
     "output_type": "stream",
     "text": [
      "/home/craigmatthewsmith/heartRateAlert/src\n"
     ]
    }
   ],
   "source": [
    "import os\n",
    "import ast\n",
    "import json\n",
    "import numpy as np\n",
    "import datetime as dt\n",
    "from datetime import datetime as dt\n",
    "dir_work = os.getcwd()\n",
    "print(dir_work)\n"
   ]
  },
  {
   "cell_type": "code",
   "execution_count": 2,
   "metadata": {},
   "outputs": [
    {
     "name": "stdout",
     "output_type": "stream",
     "text": [
      "True\n"
     ]
    }
   ],
   "source": [
    "#dir_data = './data'\n",
    "dir_data = '/home/craigmatthewsmith/heartRateAlert/data'\n",
    "\n",
    "print(os.path.isdir(dir_data))\n"
   ]
  },
  {
   "cell_type": "code",
   "execution_count": 5,
   "metadata": {},
   "outputs": [],
   "source": [
    "data = []\n",
    "#with gzip.open('endomondoHR.json.gz') as f:\n",
    "#with open(os.path.join('endomondoHR_proper.json')) as f:\n",
    "with open(os.path.join(os.path.join(dir_data,'data_subset_proper.json'))) as f:\n",
    "    for l in f:\n",
    "        data.append(eval(l))\n",
    "        "
   ]
  },
  {
   "cell_type": "code",
   "execution_count": 13,
   "metadata": {},
   "outputs": [
    {
     "name": "stdout",
     "output_type": "stream",
     "text": [
      "20\n"
     ]
    }
   ],
   "source": [
    "n_activities = len(data)\n",
    "\n",
    "#print(data)\n",
    "print(n_activities)\n",
    "\n"
   ]
  },
  {
   "cell_type": "code",
   "execution_count": 18,
   "metadata": {},
   "outputs": [
    {
     "name": "stdout",
     "output_type": "stream",
     "text": [
      "1408898746 1408906335 7589\n",
      "126.48333333333333\n"
     ]
    }
   ],
   "source": [
    "\n",
    "n = 0\n",
    "dt_min = data[n]['timestamp'][0]\n",
    "dt_max = data[n]['timestamp'][-1]\n",
    "\n",
    "print(dt_min, dt_max, dt_max-dt_min)\n",
    "print (7589.0/60.0)"
   ]
  },
  {
   "cell_type": "code",
   "execution_count": 44,
   "metadata": {},
   "outputs": [
    {
     "name": "stdout",
     "output_type": "stream",
     "text": [
      "24.33781022205949 24.81770033016801\n",
      "59.984249928966165 60.23485726676881\n",
      "1402943301 1408906335\n",
      "99383.9\n",
      "[500 500 500 500 500 500 500 500 500 500 500 500 500 500 500 500 500 500\n",
      " 500 500]\n"
     ]
    }
   ],
   "source": [
    "[lon_min, lon_max] =  [25.0, 0.0]\n",
    "[lat_min, lat_max] = [90.0, 0.0]\n",
    "[ dt_min,  dt_max] = [1508906335, 0.0]\n",
    "n_records = np.full([n_activities], 0, dtype=int)\n",
    "lon_min_n = np.full([n_activities], lon_min, dtype=float)\n",
    "lon_max_n = np.full([n_activities], lon_max, dtype=float)\n",
    "lat_min_n = np.full([n_activities], lon_min, dtype=float)\n",
    "lat_max_n = np.full([n_activities], lat_max, dtype=float)\n",
    "dt_min_n  = np.full([n_activities],  dt_min, dtype=float)\n",
    "dt_max_n  = np.full([n_activities],  dt_max, dtype=float)\n",
    "\n",
    "\n",
    "for n in range(0, n_activities, 1):\n",
    "    data_temp = data[n]\n",
    "    n_records[n] = len(data_temp['longitude'])\n",
    "    lon_min = min(lon_min, np.nanmin(data_temp['longitude']))\n",
    "    lon_max = max(lon_max, np.nanmax(data_temp['longitude']))\n",
    "    lat_min = min(lat_min, np.nanmin(data_temp['latitude']))\n",
    "    lat_max = max(lat_max, np.nanmax(data_temp['latitude']))\n",
    "    dt_min  = min( dt_min, np.nanmin(data_temp['timestamp']))\n",
    "    dt_max  = max( dt_max, np.nanmax(data_temp['timestamp']))\n",
    "    \n",
    "    lon_min_n[n] = np.nanmin(data_temp['longitude'])\n",
    "    lon_max_n[n] = np.nanmax(data_temp['longitude'])\n",
    "    lat_min_n[n] = np.nanmin(data_temp['latitude'])\n",
    "    lat_max_n[n] = np.nanmax(data_temp['latitude'])\n",
    "    dt_min_n [n] = np.nanmin(data_temp['timestamp'])\n",
    "    dt_max_n [n] = np.nanmax(data_temp['timestamp'])\n",
    "    \n",
    "    \n",
    "print(lon_min, lon_max)\n",
    "print(lat_min, lat_max)\n",
    "print( dt_min,  dt_max)\n",
    "print(( dt_max-dt_min)/60.0)\n",
    "\n",
    "print(n_records)"
   ]
  },
  {
   "cell_type": "code",
   "execution_count": 43,
   "metadata": {},
   "outputs": [
    {
     "name": "stdout",
     "output_type": "stream",
     "text": [
      "2014-06-16 11:28:21\n",
      "2014-08-24 09:45:46\n",
      "2014-06-16 12:29:52\n",
      "2014-08-24 11:52:15\n"
     ]
    }
   ],
   "source": [
    "\n",
    "print(dt.fromtimestamp(min(dt_min_n)))\n",
    "print(dt.fromtimestamp(max(dt_min_n)))\n",
    "\n",
    "print(dt.fromtimestamp(min(dt_max_n)))\n",
    "print(dt.fromtimestamp(max(dt_max_n)))\n",
    "\n",
    "\n"
   ]
  },
  {
   "cell_type": "code",
   "execution_count": 33,
   "metadata": {},
   "outputs": [
    {
     "name": "stdout",
     "output_type": "stream",
     "text": [
      "1402943301.0\n",
      "1408898746.0\n",
      "1402946992.0\n",
      "1408906335.0\n"
     ]
    }
   ],
   "source": [
    "print(min(dt_min_n))\n",
    "print(max(dt_min_n))\n",
    "\n",
    "print(min(dt_max_n))\n",
    "print(max(dt_max_n))\n",
    "\n",
    "\n"
   ]
  },
  {
   "cell_type": "code",
   "execution_count": null,
   "metadata": {},
   "outputs": [],
   "source": [
    "\n",
    "\n",
    "{'longitude': [24.64977040886879, 24.65014273300767,  24.368406180292368, 24.6496663056314], \n",
    "'altitude': [41.6, 40.6, 40.6, 38.4], \n",
    "'latitude': [60.173348765820265, 60.173239801079035, 60.17298021353781, 60.17335429787636], \n",
    "'sport': 'bike', \n",
    "'id': 396826535, \n",
    "'heart_rate': [100, 111, 120, 119], \n",
    "'gender': 'male', \n",
    "'timestamp': [1408898746, 1408898754, 1408898765, 1408898778], \n",
    "'url': 'https://www.endomondo.com/users/10921915/workouts/396826535',\n",
    "'userId': 10921915, \n",
    "'speed': [6.8652, 16.4736, 19.1988, 20.4804]}\n",
    "\n",
    "{'longitude': [24.649855233728886, 24.65015547350049, 24.650881346315145, 24.65112249366939],\n",
    "'altitude': [38.4, 39.0, 39.0, 38.2],\n",
    "'latitude': [60.173247596248984, 60.17320962622762, 60.17297962680459, 60.172654911875725],\n",
    "'sport': 'bike', \n",
    "'id': 392337038, \n",
    "'heart_rate': [100, 105, 111, 110], \n",
    "'gender': 'male', \n",
    "'timestamp': [1408221682, 1408221687, 1408221699, 1408221707],\n",
    "'url': 'https://www.endomondo.com/users/10921915/workouts/392337038', \n",
    "'userId': 10921915, \n",
    "'speed': [9.0792, 13.284, 15.9336, 10.9476]}\n",
    "\n",
    "\n",
    "                                                                                           "
   ]
  },
  {
   "cell_type": "code",
   "execution_count": null,
   "metadata": {},
   "outputs": [],
   "source": [
    "json_file_name = os.path.join(dir_data,'testdata.json')\n",
    "\n",
    "os.path.isfile(json_file_name)\n",
    "\n"
   ]
  },
  {
   "cell_type": "code",
   "execution_count": null,
   "metadata": {},
   "outputs": [],
   "source": [
    "\n",
    "json_data = {'userId': 10014612, 'hydration': None, 'sport': 'mountain bike', 'ascent': 147.0, 'descent': 137.0, 'calories': 1313.0, 'duration': 3218.35, 'id': 322483826,\n",
    " 'timestamp': ['2014-04-11T14:32:35.000Z', '2014-04-11T14:32:40.000Z', '2014-04-11T14:49:00.000Z', '2014-04-11T15:26:14.000Z'], \n",
    " 'distance': 18.85551, 'url': 'https://www.endomondo.com/users/10014612/workouts/322483826', 'weather': {'type': 7}, 'gender': 'male'}\n",
    "\n",
    "print(json.dumps(json_data))\n",
    "\n",
    "temp1 = json.dumps(json_data)\n"
   ]
  },
  {
   "cell_type": "code",
   "execution_count": null,
   "metadata": {},
   "outputs": [],
   "source": [
    "print(type(temp1))"
   ]
  },
  {
   "cell_type": "code",
   "execution_count": null,
   "metadata": {},
   "outputs": [],
   "source": [
    "#temp1['userId']\n",
    "json_data['userId']\n",
    "\n",
    "\n"
   ]
  },
  {
   "cell_type": "code",
   "execution_count": null,
   "metadata": {},
   "outputs": [],
   "source": []
  },
  {
   "cell_type": "code",
   "execution_count": null,
   "metadata": {},
   "outputs": [],
   "source": [
    "json_file = open(json_file_name, \"r\", encoding='utf_16_le')\n",
    "\n",
    "data = json.loads(json_file)\n",
    "#with open(json_file) as f:\n",
    "#  data = json.load(f)\n",
    "\n",
    "\n",
    "# Output: {'name': 'Bob', 'languages': ['English', 'Fench']}\n",
    "#print(data)\n"
   ]
  },
  {
   "cell_type": "code",
   "execution_count": null,
   "metadata": {},
   "outputs": [],
   "source": [
    "print (json.dumps(json.load(json_file),indent=2))\n"
   ]
  },
  {
   "cell_type": "code",
   "execution_count": null,
   "metadata": {},
   "outputs": [],
   "source": [
    "\n",
    "#data = {\"userId\": 10014612, \"hydration\": \"yes\"}\n",
    "data = {'userId': 10014612, 'hydration': 'yes'}\n",
    "#json_data = json.loads(ast.literal_eval(data))\n",
    "\n",
    "print (json.dumps(data,indent=2))\n",
    "\n",
    "#, \"sport\": \"mountain bike\", \"ascent\": 147.0, \"descent\": 137.0, \"calories\": 1313.0, \"duration\": 3218.35, \"id\": 322483826,\n",
    "# \"timestamp\": [\"2014-04-11T14:32:35.000Z\", \"2014-04-11T14:32:40.000Z\", \"2014-04-11T14:49:00.000Z\", \"2014-04-11T15:26:14.000Z\"], \n",
    "# \"distance\": 18.85551, \"url\": \"https://www.endomondo.com/users/10014612/workouts/322483826\", \"weather\": {\"type\": 7}, \"gender\": \"male\"}\n",
    "\n",
    "#print(json.dumps(json_data))\n",
    "\n",
    "# Single quote to double with ast.literal_eval()\n",
    "#json_data = \"{'property': 'text'}\"\n",
    "#json_data = ast.literal_eval(json_data)\n",
    "# Displays : {\"property\": \"text\"}\n",
    "\n"
   ]
  },
  {
   "cell_type": "code",
   "execution_count": null,
   "metadata": {},
   "outputs": [],
   "source": [
    "\n",
    "# no\n",
    "{'http://example.org/about': {'http://purl.org/dc/terms/title': [{'type': 'literal', 'value': \"Anna's Homepage\"}]}}\n",
    "# yes\n",
    "{\"http://example.org/about\": {\"http://purl.org/dc/terms/title\": [{\"type\": \"literal\", \"value\": \"Anna's Homepage\"}]}}\n",
    "\n",
    "\n",
    "{'userId': 10014612, 'hydration': None, 'sport': 'mountain bike', 'ascent': 147.0, 'descent': 137.0, 'calories': 1313.0, 'duration': 3218.35, 'id': 322483826,\n",
    " 'timestamp': ['2014-04-11T14:32:35.000Z', '2014-04-11T14:32:40.000Z', '2014-04-11T14:49:00.000Z', '2014-04-11T15:26:14.000Z'], \n",
    " 'distance': 18.85551, 'url': 'https://www.endomondo.com/users/10014612/workouts/322483826', 'weather': {'type': 7}, 'gender': 'male'}\n",
    "\n",
    "{'userId': 10014612, 'hydration': None, 'sport': 'mountain bike', 'ascent': 97.0, 'descent': 84.0, 'calories': 724.0, 'duration': 1728.33, 'id': 322483840,\n",
    " 'timestamp': ['2014-04-10T14:56:01.000Z', '2014-04-10T15:24:44.000Z', '2014-04-10T15:24:48.000Z'], \n",
    " 'distance': 10.91231, 'url': 'https://www.endomondo.com/users/10014612/workouts/322483840', 'weather': {'type': 7}, 'gender': 'male'} \n",
    " \n",
    "               \n",
    "               \n",
    "\n"
   ]
  },
  {
   "cell_type": "code",
   "execution_count": null,
   "metadata": {},
   "outputs": [],
   "source": [
    "\n",
    "\n",
    "\n",
    "\n",
    "{'userId': 10014612, 'hydration': None, 'sport': 'mountain bike'}\n",
    "\n",
    "\n",
    "               \n",
    "{\"userId\": 10014622,\"hydration\": \"None\",\"sport\": \"mountain bike\"}\n",
    "\n",
    "\n",
    "{'userId': 10014622,'hydration': 'None','sport': 'mountain bike'}\n",
    "\n",
    "\n",
    "\n",
    "\n"
   ]
  },
  {
   "cell_type": "code",
   "execution_count": null,
   "metadata": {},
   "outputs": [],
   "source": [
    "no\n",
    "\n",
    "{\n",
    "    \"maps\": [\n",
    "        {\n",
    "            \"id\": \"blabla\",\n",
    "            \"iscategorical\": \"0\"\n",
    "        },\n",
    "        {\n",
    "            \"id\": \"blabla\",\n",
    "            \"iscategorical\": \"0\"\n",
    "        }\n",
    "    ],\n",
    "    \"masks\": [\n",
    "        \"id\": \"valore\"\n",
    "    ],\n",
    "    \"om_points\": \"value\",\n",
    "    \"parameters\": [\n",
    "        \"id\": \"valore\"\n",
    "    ]\n",
    "}\n",
    "\n",
    "yes \n",
    "\n",
    "{\n",
    "    \"maps\": [\n",
    "        {\n",
    "            \"id\": \"blabla\",\n",
    "            \"iscategorical\": \"0\"\n",
    "        },\n",
    "        {\n",
    "            \"id\": \"blabla\",\n",
    "            \"iscategorical\": \"0\"\n",
    "        }\n",
    "    ],\n",
    "    \"masks\": {\n",
    "        \"id\": \"valore\"\n",
    "    },\n",
    "    \"om_points\": \"value\",\n",
    "    \"parameters\": {\n",
    "        \"id\": \"valore\"\n",
    "    }\n",
    "}\n",
    "\n"
   ]
  }
 ],
 "metadata": {
  "kernelspec": {
   "display_name": "Python [conda env:root] *",
   "language": "python",
   "name": "conda-root-py"
  },
  "language_info": {
   "codemirror_mode": {
    "name": "ipython",
    "version": 3
   },
   "file_extension": ".py",
   "mimetype": "text/x-python",
   "name": "python",
   "nbconvert_exporter": "python",
   "pygments_lexer": "ipython3",
   "version": "3.7.6"
  }
 },
 "nbformat": 4,
 "nbformat_minor": 4
}
